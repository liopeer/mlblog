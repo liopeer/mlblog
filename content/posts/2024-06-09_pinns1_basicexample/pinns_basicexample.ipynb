{
 "cells": [
  {
   "cell_type": "markdown",
   "metadata": {},
   "source": [
    "We would like to solve a (boundary value problem) BVP for the 1D heat equation\n",
    "$$\n",
    "u_t(t,x) = u_{xx}(t, x), \\quad t\\in [0,T], \\quad x\\in [-1,1]\n",
    "$$\n",
    "where the subscripts describe the first or second order partial derivatives. Together with this partial differential equation (PDE), we have boundary and initial conditions.\n",
    "$$\n",
    "u(t,-1) = u(t,1) = 0\\\\\n",
    "u(x,0) = -\\sin(\\pi x)\n",
    "$$"
   ]
  },
  {
   "cell_type": "code",
   "execution_count": null,
   "metadata": {},
   "outputs": [],
   "source": [
    "import numpy as np\n",
    "import matplotlib.pyplot as plt\n",
    "import torch\n",
    "import torch.nn as nn"
   ]
  }
 ],
 "metadata": {
  "kernelspec": {
   "display_name": "liotorch",
   "language": "python",
   "name": "python3"
  },
  "language_info": {
   "name": "python",
   "version": "3.12.1"
  }
 },
 "nbformat": 4,
 "nbformat_minor": 2
}
